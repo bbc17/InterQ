{
 "cells": [
  {
   "cell_type": "code",
   "execution_count": 1,
   "metadata": {},
   "outputs": [],
   "source": [
    "import pandas as pd\n",
    "from sklearn.neural_network import MLPClassifier\n",
    "from sklearn.ensemble import RandomForestClassifier\n",
    "from sklearn.preprocessing import StandardScaler\n",
    "from imblearn.over_sampling import RandomOverSampler\n",
    "from sklearn.metrics import matthews_corrcoef, f1_score, precision_score, recall_score, roc_auc_score"
   ]
  },
  {
   "cell_type": "code",
   "execution_count": 2,
   "metadata": {},
   "outputs": [],
   "source": [
    "train_data = pd.read_csv(\"/home/b.cassoli@PTW.Maschinenbau.TU-Darmstadt.de/projects/bosch-production-line/raw/product_8463_train.csv\")\n",
    "train_data_labels = train_data.Response\n",
    "train_data.drop(columns=[\"Id\", \"Response\"], inplace=True)\n",
    "\n",
    "test_data = pd.read_csv(\"/home/b.cassoli@PTW.Maschinenbau.TU-Darmstadt.de/projects/bosch-production-line/raw/product_8463_test.csv\")\n",
    "test_data_labels = test_data.Response\n",
    "test_data.drop(columns=[\"Id\", \"Response\"], inplace=True)\n"
   ]
  },
  {
   "cell_type": "code",
   "execution_count": 3,
   "metadata": {},
   "outputs": [
    {
     "name": "stdout",
     "output_type": "stream",
     "text": [
      "TRAIN\n",
      "MCC: 0.87, F1: 0.87 Precision: 0.96 Recall: 0.79\n",
      "TEST\n",
      "MCC: 0.499, F1: 0.400 Precision: 1.000 Recall: 0.250, ROC AUC: 0.625\n"
     ]
    }
   ],
   "source": [
    "# Random Forest\n",
    "model = RandomForestClassifier()\n",
    "model.fit(X=train_data, y=train_data_labels)\n",
    "\n",
    "y_pred = model.predict(train_data)\n",
    "y_true = train_data_labels\n",
    "\n",
    "print(\"TRAIN\")\n",
    "print(f\"MCC: {matthews_corrcoef(y_true,y_pred):.2f}, F1: {f1_score(y_true,y_pred):.2f} Precision: {precision_score(y_true,y_pred):.2f} Recall: {recall_score(y_true,y_pred):.2f}\")\n",
    "\n",
    "y_pred = model.predict(test_data)\n",
    "y_true = test_data_labels\n",
    "\n",
    "print(\"TEST\")\n",
    "print(f\"MCC: {matthews_corrcoef(y_true,y_pred):.3f}, F1: {f1_score(y_true,y_pred):.3f} Precision: {precision_score(y_true,y_pred):.3f} Recall: {recall_score(y_true,y_pred):.3f}, ROC AUC: {roc_auc_score(y_true,y_pred):.3f}\")"
   ]
  },
  {
   "cell_type": "code",
   "execution_count": 6,
   "metadata": {},
   "outputs": [
    {
     "name": "stdout",
     "output_type": "stream",
     "text": [
      "TRAIN\n",
      "MCC: 1.00, F1: 1.00 Precision: 1.00 Recall: 1.00\n",
      "TEST\n",
      "MCC: 0.249, F1: 0.118 Precision: 1.000 Recall: 0.062500, ROC AUC: 0.531\n"
     ]
    }
   ],
   "source": [
    "# MLP\n",
    "scaler = StandardScaler()\n",
    "scaler.fit(train_data)\n",
    "\n",
    "ros = RandomOverSampler(random_state=0)\n",
    "X_resampled, y_resampled = ros.fit_resample(scaler.transform(train_data), train_data_labels)\n",
    "\n",
    "clf = MLPClassifier(random_state=1, max_iter=300).fit(X_resampled, y_resampled)\n",
    "\n",
    "y_pred = clf.predict(X_resampled)\n",
    "y_true = y_resampled\n",
    "\n",
    "print(\"TRAIN\")\n",
    "print(f\"MCC: {matthews_corrcoef(y_true,y_pred):.2f}, F1: {f1_score(y_true,y_pred):.2f} Precision: {precision_score(y_true,y_pred):.2f} Recall: {recall_score(y_true,y_pred):.2f}\")\n",
    "\n",
    "y_pred = clf.predict(scaler.transform(test_data))\n",
    "y_true = test_data_labels\n",
    "\n",
    "print(\"TEST\")\n",
    "print(f\"MCC: {matthews_corrcoef(y_true,y_pred):.3f}, F1: {f1_score(y_true,y_pred):.3f} Precision: {precision_score(y_true,y_pred):.3f} Recall: {recall_score(y_true,y_pred):3f}, ROC AUC: {roc_auc_score(y_true,y_pred):.3f}\")"
   ]
  }
 ],
 "metadata": {
  "kernelspec": {
   "display_name": "base",
   "language": "python",
   "name": "python3"
  },
  "language_info": {
   "codemirror_mode": {
    "name": "ipython",
    "version": 3
   },
   "file_extension": ".py",
   "mimetype": "text/x-python",
   "name": "python",
   "nbconvert_exporter": "python",
   "pygments_lexer": "ipython3",
   "version": "3.9.12"
  },
  "orig_nbformat": 4,
  "vscode": {
   "interpreter": {
    "hash": "460197fc25d4e493c6950e13f36e16ce3463ab314d0f4d92c3d0997488cc45d1"
   }
  }
 },
 "nbformat": 4,
 "nbformat_minor": 2
}
